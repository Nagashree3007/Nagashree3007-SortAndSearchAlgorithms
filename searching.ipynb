{
 "cells": [
  {
   "cell_type": "markdown",
   "metadata": {},
   "source": [
    "'''\n",
    "\n",
    "@Author: Nagashree C R<br>\n",
    "@Date: 2024-08-09<br>\n",
    "@Last Modified by: Nagashree C R<br>\n",
    "@Last Modified: 2024-08-09<br>\n",
    "@Title : Data Structure searching algorithm Programs in python\n",
    "\n",
    "'''\n"
   ]
  },
  {
   "cell_type": "markdown",
   "metadata": {},
   "source": [
    "1.Binary_search"
   ]
  },
  {
   "cell_type": "code",
   "execution_count": 1,
   "metadata": {},
   "outputs": [
    {
     "name": "stdout",
     "output_type": "stream",
     "text": [
      "element present in the index 3 , value = 4\n"
     ]
    }
   ],
   "source": [
    "def binary_search(n,ele):\n",
    "    n=sorted(n)\n",
    "    low=0\n",
    "    high = len(n)-1\n",
    "\n",
    "    while low<=high:\n",
    "        mid = (low+high)//2\n",
    "        if ele==n[mid]:\n",
    "            return mid\n",
    "        elif ele>n[mid]:\n",
    "            low=mid+1\n",
    "        elif ele<n[mid]:\n",
    "            high = mid-1\n",
    "        else:\n",
    "            return -1\n",
    "\n",
    "\n",
    "def main():\n",
    "    n = [1,2,3,4,5,6]\n",
    "    search_ele = 4\n",
    "    result = binary_search(n,search_ele)\n",
    "    print(f\"element present in the index {result} , value = {n[result]}\")\n",
    "\n",
    "if __name__=='__main__':\n",
    "    main()"
   ]
  },
  {
   "cell_type": "markdown",
   "metadata": {},
   "source": [
    "2.BFS"
   ]
  },
  {
   "cell_type": "code",
   "execution_count": 2,
   "metadata": {},
   "outputs": [
    {
     "name": "stdout",
     "output_type": "stream",
     "text": [
      "BFS Traversal Result: ['A', 'B', 'C', 'D', 'E', 'F']\n"
     ]
    }
   ],
   "source": [
    "from collections import deque\n",
    "\n",
    "def bfs(graph, start):\n",
    "    \"\"\"\n",
    "    Description: Function to perform Breadth-First Search (BFS) on a graph.\n",
    "\n",
    "    Parameters:\n",
    "        graph (dict): A dictionary where keys are nodes and values are lists of adjacent nodes.\n",
    "        start (any): The starting node for BFS.\n",
    "\n",
    "    Returns:\n",
    "        list: A list of nodes in the order they were visited during the BFS traversal.\n",
    "    \"\"\"\n",
    "    visited = set()  # Set to keep track of visited nodes\n",
    "    queue = deque([start])  # Queue for BFS, initialized with the start node\n",
    "    result = []  # List to store the order of visited nodes\n",
    "\n",
    "    while queue:\n",
    "        vertex = queue.popleft()  # Remove and return the leftmost node from the queue\n",
    "        if vertex not in visited:\n",
    "            visited.add(vertex)  # Mark the node as visited\n",
    "            result.append(vertex)  # Add the node to the result list\n",
    "            # Add all unvisited neighbors to the queue\n",
    "            queue.extend(neighbor for neighbor in graph.get(vertex, []) if neighbor not in visited)\n",
    "    \n",
    "    return result\n",
    "\n",
    "def main():\n",
    "    \"\"\"\n",
    "    Main function to test the bfs function.\n",
    "    \"\"\"\n",
    "    # Example graph represented as an adjacency list\n",
    "    graph = {\n",
    "        'A': ['B', 'C'],\n",
    "        'B': ['A', 'D', 'E'],\n",
    "        'C': ['A', 'F'],\n",
    "        'D': ['B'],\n",
    "        'E': ['B', 'F'],\n",
    "        'F': ['C', 'E']\n",
    "    }\n",
    "    \n",
    "    # Perform BFS starting from node 'A'\n",
    "    bfs_result = bfs(graph, 'A')\n",
    "    \n",
    "    # Print the BFS traversal result\n",
    "    print(\"BFS Traversal Result:\", bfs_result)\n",
    "\n",
    "if __name__ == '__main__':\n",
    "    main()\n"
   ]
  },
  {
   "cell_type": "markdown",
   "metadata": {},
   "source": [
    "3.DFS"
   ]
  },
  {
   "cell_type": "code",
   "execution_count": 3,
   "metadata": {},
   "outputs": [
    {
     "name": "stdout",
     "output_type": "stream",
     "text": [
      "DFS Traversal Result: ['A', 'B', 'D', 'E', 'F', 'C']\n"
     ]
    }
   ],
   "source": [
    "def dfs(graph, start, visited=None):\n",
    "    \"\"\"\n",
    "    Description: Function to perform Depth-First Search (DFS) on a graph.\n",
    "\n",
    "    Parameters:\n",
    "        graph (dict): A dictionary where keys are nodes and values are lists of adjacent nodes.\n",
    "        start (any): The starting node for DFS.\n",
    "        visited (set, optional): A set to keep track of visited nodes. Defaults to None.\n",
    "\n",
    "    Returns:\n",
    "        list: A list of nodes in the order they were visited during the DFS traversal.\n",
    "    \"\"\"\n",
    "    if visited is None:\n",
    "        visited = set()  # Initialize visited set if not provided\n",
    "\n",
    "    visited.add(start)  # Mark the starting node as visited\n",
    "    result = [start]  # List to store the order of visited nodes\n",
    "\n",
    "    for neighbor in graph.get(start, []):  # Get neighbors of the current node\n",
    "        if neighbor not in visited:\n",
    "            result.extend(dfs(graph, neighbor, visited))  # Recursively visit unvisited neighbors\n",
    "    \n",
    "    return result\n",
    "\n",
    "def main():\n",
    "    \"\"\"\n",
    "    Main function to test the dfs function.\n",
    "    \"\"\"\n",
    "    # Example graph represented as an adjacency list\n",
    "    graph = {\n",
    "        'A': ['B', 'C'],\n",
    "        'B': ['A', 'D', 'E'],\n",
    "        'C': ['A', 'F'],\n",
    "        'D': ['B'],\n",
    "        'E': ['B', 'F'],\n",
    "        'F': ['C', 'E']\n",
    "    }\n",
    "    \n",
    "    # Perform DFS starting from node 'A'\n",
    "    dfs_result = dfs(graph, 'A')\n",
    "    \n",
    "    # Print the DFS traversal result\n",
    "    print(\"DFS Traversal Result:\", dfs_result)\n",
    "\n",
    "if __name__ == '__main__':\n",
    "    main()\n"
   ]
  }
 ],
 "metadata": {
  "kernelspec": {
   "display_name": "Python 3",
   "language": "python",
   "name": "python3"
  },
  "language_info": {
   "codemirror_mode": {
    "name": "ipython",
    "version": 3
   },
   "file_extension": ".py",
   "mimetype": "text/x-python",
   "name": "python",
   "nbconvert_exporter": "python",
   "pygments_lexer": "ipython3",
   "version": "3.11.9"
  }
 },
 "nbformat": 4,
 "nbformat_minor": 2
}
