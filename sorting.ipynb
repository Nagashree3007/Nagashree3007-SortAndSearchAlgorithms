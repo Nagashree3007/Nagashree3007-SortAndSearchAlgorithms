{
 "cells": [
  {
   "cell_type": "markdown",
   "metadata": {},
   "source": [
    "'''\n",
    "\n",
    "@Author: Nagashree C R<br>\n",
    "@Date: 2024-08-09<br>\n",
    "@Last Modified by: Nagashree C R<br>\n",
    "@Last Modified: 2024-08-09<br>\n",
    "@Title : Data Structure sorting algorithm Programs in python\n",
    "\n",
    "'''\n"
   ]
  },
  {
   "cell_type": "markdown",
   "metadata": {},
   "source": [
    "<b>1.selection Sort"
   ]
  },
  {
   "cell_type": "markdown",
   "metadata": {},
   "source": [
    "a.selection_sort_logic"
   ]
  },
  {
   "cell_type": "code",
   "execution_count": 10,
   "metadata": {},
   "outputs": [],
   "source": [
    "def selection_sort(arr):\n",
    "    n = len(arr)\n",
    "    for i in range(n):\n",
    "        min_idx = i\n",
    "        for j in range(i + 1, n):\n",
    "            if arr[j] < arr[min_idx]:\n",
    "                min_idx = j\n",
    "        arr[i], arr[min_idx] = arr[min_idx], arr[i]\n",
    "    return arr\n"
   ]
  },
  {
   "cell_type": "markdown",
   "metadata": {},
   "source": [
    "b.selection_sort_problem"
   ]
  },
  {
   "cell_type": "code",
   "execution_count": 11,
   "metadata": {},
   "outputs": [
    {
     "name": "stdout",
     "output_type": "stream",
     "text": [
      "[8, 12, 20, 45, 45, 53, 63, 63, 87, 89]\n"
     ]
    }
   ],
   "source": [
    "def  selection_sort(x):\n",
    "\n",
    "    \"\"\"\n",
    "    Description: Function to sort the give values in ascending order selection sort.\n",
    "    Parameters:\n",
    "       a : function taking the list of values to sort in ascending order\n",
    "    Returns:\n",
    "        a : returning the sorted list of values\n",
    "    \"\"\"\n",
    "    n= len(x)\n",
    "    for i in range(n):\n",
    "        small=i\n",
    "        for j in range(i+1,n):\n",
    "            if x[j]<x[small]:\n",
    "                small=j\n",
    "        x[i],x[small]=x[small],x[i]\n",
    "    return x\n",
    "\n",
    "def main():\n",
    "    x = [20,8,63,12,53,45,89,63,45,87]\n",
    "    result = selection_sort(x)\n",
    "    print(result)\n",
    "\n",
    "if __name__=='__main__':\n",
    "    main()"
   ]
  },
  {
   "cell_type": "markdown",
   "metadata": {},
   "source": [
    "2.Bubble Sort"
   ]
  },
  {
   "cell_type": "markdown",
   "metadata": {},
   "source": [
    "a.Bubble_sort_logic"
   ]
  },
  {
   "cell_type": "code",
   "execution_count": 12,
   "metadata": {},
   "outputs": [],
   "source": [
    "def bubble_sort(arr):\n",
    "    n = len(arr)\n",
    "    for i in range(n):\n",
    "        for j in range(0, n - i - 1):\n",
    "            if arr[j] > arr[j + 1]:\n",
    "                arr[j], arr[j + 1] = arr[j + 1], arr[j]\n",
    "    return arr"
   ]
  },
  {
   "cell_type": "markdown",
   "metadata": {},
   "source": [
    "b.Bubble_sort_problem"
   ]
  },
  {
   "cell_type": "code",
   "execution_count": 13,
   "metadata": {},
   "outputs": [
    {
     "name": "stdout",
     "output_type": "stream",
     "text": [
      "[20, 45, 45, 63, 63, 80, 87, 89, 90]\n"
     ]
    }
   ],
   "source": [
    "def  bubble_sort(a):\n",
    "\n",
    "    \"\"\"\n",
    "    Description: Function to sort the give values in ascending order using bubble sort.\n",
    "    Parameters:\n",
    "       a : function taking the list of values to sort in ascending order\n",
    "    Returns:\n",
    "        a : returning the sorted list of values\n",
    "    \"\"\"\n",
    "\n",
    "    n=len(a)\n",
    "    for i in range(n):\n",
    "        for j in range(n-1-i):\n",
    "            if a[j]>a[j+1]:\n",
    "                a[j],a[j+1]=a[j+1],a[j]\n",
    "    return a\n",
    "\n",
    "def main():\n",
    "    lst_ele = [20,80,90,63,45,89,63,45,87]\n",
    "    res = bubble_sort(lst_ele)\n",
    "    print(res)\n",
    "\n",
    "if __name__=='__main__':\n",
    "    main()"
   ]
  },
  {
   "cell_type": "markdown",
   "metadata": {},
   "source": [
    "<b>3.Merge Sort"
   ]
  },
  {
   "cell_type": "markdown",
   "metadata": {},
   "source": [
    "a.Merge_Sort_problem"
   ]
  },
  {
   "cell_type": "code",
   "execution_count": 14,
   "metadata": {},
   "outputs": [
    {
     "name": "stdout",
     "output_type": "stream",
     "text": [
      "Sorted List: [20, 45, 45, 63, 63, 80, 87, 89, 90]\n"
     ]
    }
   ],
   "source": [
    "def merge_sort(arr):\n",
    "    \"\"\"\n",
    "    Description: Function to sort the given list of values in ascending order using merge sort.\n",
    "    \n",
    "    Parameters:\n",
    "        arr (list of int): The list of values to be sorted in ascending order.\n",
    "    \n",
    "    Returns:\n",
    "        list of int: The sorted list of values in ascending order.\n",
    "    \"\"\"\n",
    "    # Base case: If the list is a single element or empty, it's already sorted\n",
    "    if len(arr) <= 1:\n",
    "        return arr\n",
    "    \n",
    "    # Find the middle point and divide the list into two halves\n",
    "    mid = len(arr) // 2\n",
    "    left_half = merge_sort(arr[:mid])\n",
    "    right_half = merge_sort(arr[mid:])\n",
    "    \n",
    "    # Merge the sorted halves\n",
    "    return merge(left_half, right_half)\n",
    "\n",
    "def merge(left, right):\n",
    "    \"\"\"\n",
    "    Description: Function to merge two sorted lists into one sorted list.\n",
    "    \n",
    "    Parameters:\n",
    "        left (list of int): The first sorted list.\n",
    "        right (list of int): The second sorted list.\n",
    "    \n",
    "    Returns:\n",
    "        list of int: The merged and sorted list.\n",
    "    \"\"\"\n",
    "    sorted_list = []\n",
    "    left_idx = right_idx = 0\n",
    "    \n",
    "    # Merge the two sorted lists\n",
    "    while left_idx < len(left) and right_idx < len(right):\n",
    "        if left[left_idx] < right[right_idx]:\n",
    "            sorted_list.append(left[left_idx])\n",
    "            left_idx += 1\n",
    "        else:\n",
    "            sorted_list.append(right[right_idx])\n",
    "            right_idx += 1\n",
    "    \n",
    "    # If there are remaining elements in left or right, append them\n",
    "    sorted_list.extend(left[left_idx:])\n",
    "    sorted_list.extend(right[right_idx:])\n",
    "    \n",
    "    return sorted_list\n",
    "\n",
    "def main():\n",
    "    lst_ele = [20, 80, 90, 63, 45, 89, 63, 45, 87]\n",
    "    # Sort the list using merge_sort\n",
    "    sorted_list = merge_sort(lst_ele)\n",
    "    # Print the sorted list\n",
    "    print(\"Sorted List:\", sorted_list)\n",
    "\n",
    "if __name__ == '__main__':\n",
    "    main()\n"
   ]
  },
  {
   "cell_type": "markdown",
   "metadata": {},
   "source": [
    "<b>4.Quick_Sort"
   ]
  },
  {
   "cell_type": "markdown",
   "metadata": {},
   "source": [
    "a.Quick_Sort_logic"
   ]
  },
  {
   "cell_type": "code",
   "execution_count": 15,
   "metadata": {},
   "outputs": [],
   "source": [
    "def quick_sort(arr):\n",
    "    if len(arr) <= 1:\n",
    "        return arr\n",
    "    pivot = arr[len(arr) // 2]\n",
    "    left = [x for x in arr if x < pivot]\n",
    "    middle = [x for x in arr if x == pivot]\n",
    "    right = [x for x in arr if x > pivot]\n",
    "    return quick_sort(left) + middle + quick_sort(right)\n"
   ]
  },
  {
   "cell_type": "markdown",
   "metadata": {},
   "source": [
    "b.Quick_Sort_programs"
   ]
  },
  {
   "cell_type": "code",
   "execution_count": 16,
   "metadata": {},
   "outputs": [
    {
     "name": "stdout",
     "output_type": "stream",
     "text": [
      "[12, 45, 63, 63, 87, 89]\n"
     ]
    }
   ],
   "source": [
    "def quick_sort(n):\n",
    "    length = len(n)\n",
    "    if length<=1:\n",
    "        return n\n",
    "    else:\n",
    "        pivot = n.pop()\n",
    "    \n",
    "    items_greater=[]\n",
    "    items_lower=[]\n",
    "\n",
    "    for item in n:\n",
    "        if item>pivot:\n",
    "            items_greater.append(item)\n",
    "        else :\n",
    "            items_lower.append(item)\n",
    "    return quick_sort(items_lower)+[pivot]+(items_greater)\n",
    "\n",
    "def main():\n",
    "    n = [63,12,89,63,45,87]\n",
    "    result = quick_sort(n)\n",
    "    print(result)\n",
    "\n",
    "if __name__=='__main__':\n",
    "    main()"
   ]
  },
  {
   "cell_type": "markdown",
   "metadata": {},
   "source": [
    "<b>5.insertion_sort<b>"
   ]
  },
  {
   "cell_type": "markdown",
   "metadata": {},
   "source": [
    "a.insertion_sort_logic"
   ]
  },
  {
   "cell_type": "code",
   "execution_count": 17,
   "metadata": {},
   "outputs": [],
   "source": [
    "def insertion_sort(arr):\n",
    "    # Traverse through 1 to len(arr)\n",
    "    for i in range(1, len(arr)):\n",
    "        key = arr[i]  # The current element to be inserted\n",
    "        j = i - 1\n",
    "        \n",
    "        # Move elements of arr[0..i-1], that are greater than key,\n",
    "        # to one position ahead of their current position\n",
    "        while j >= 0 and key < arr[j]:\n",
    "            arr[j + 1] = arr[j]\n",
    "            j -= 1\n",
    "        \n",
    "        arr[j + 1] = key  # Place the key at after the last moved element\n",
    "\n",
    "    return arr\n"
   ]
  },
  {
   "cell_type": "markdown",
   "metadata": {},
   "source": [
    "b.insertion_sort_program"
   ]
  },
  {
   "cell_type": "code",
   "execution_count": 18,
   "metadata": {},
   "outputs": [
    {
     "name": "stdout",
     "output_type": "stream",
     "text": [
      "[12, 45, 63, 63, 87, 89]\n"
     ]
    }
   ],
   "source": [
    "def  insertion_order(m):\n",
    "\n",
    "    \"\"\"\n",
    "    Description: Function to sort the give values in ascending order selection sort.\n",
    "    Parameters:\n",
    "       a : function taking the list of values to sort in ascending order\n",
    "    Returns:\n",
    "        a : returning the sorted list of values\n",
    "    \"\"\"\n",
    "    n= len(m)\n",
    "\n",
    "    for i in range(n):\n",
    "        ele=m[i]\n",
    "        j = i-1\n",
    "        while j>=0 and m[j]>ele:\n",
    "            m[j+1]=m[j]\n",
    "            j-=1\n",
    "        m[j+1]=ele\n",
    "    return m\n",
    "    \n",
    "        \n",
    "\n",
    "def main():\n",
    "    n = [63,12,89,63,45,87]\n",
    "    result = insertion_order(n)\n",
    "    print(result)\n",
    "\n",
    "if __name__=='__main__':\n",
    "    main()"
   ]
  }
 ],
 "metadata": {
  "kernelspec": {
   "display_name": "Python 3",
   "language": "python",
   "name": "python3"
  },
  "language_info": {
   "codemirror_mode": {
    "name": "ipython",
    "version": 3
   },
   "file_extension": ".py",
   "mimetype": "text/x-python",
   "name": "python",
   "nbconvert_exporter": "python",
   "pygments_lexer": "ipython3",
   "version": "3.11.9"
  }
 },
 "nbformat": 4,
 "nbformat_minor": 2
}
