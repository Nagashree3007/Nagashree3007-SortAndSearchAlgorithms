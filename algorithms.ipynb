{
 "cells": [
  {
   "cell_type": "markdown",
   "metadata": {},
   "source": [
    "'''\n",
    "\n",
    "@Author: Nagashree C R<br>\n",
    "@Date: 2024-08-09<br>\n",
    "@Last Modified by: Nagashree C R<br>\n",
    "@Last Modified: 2024-08-09<br>\n",
    "@Title : Data Structure algorithm Programs in python\n",
    "\n",
    "'''\n"
   ]
  },
  {
   "cell_type": "markdown",
   "metadata": {},
   "source": [
    "1.Given a string consisting of only (, ), {, }, [, and ], determine if the string is valid. An input string is valid if the brackets are closed properly and each type of bracket is closed in the correct order."
   ]
  },
  {
   "cell_type": "code",
   "execution_count": 3,
   "metadata": {},
   "outputs": [
    {
     "name": "stdout",
     "output_type": "stream",
     "text": [
      "The provided sequence is valid.\n"
     ]
    }
   ],
   "source": [
    "def stack_valid(s):\n",
    "    \"\"\"\n",
    "    Definition:\n",
    "        Program to check the validity of the string. An input string is valid if the brackets\n",
    "        are closed properly and each type of bracket is closed in the correct order.\n",
    "\n",
    "    Parameters:\n",
    "        s (str): A string with a sequence of parentheses.\n",
    "\n",
    "    Returns:\n",
    "        bool: True if the parentheses sequence is valid, else False.\n",
    "    \"\"\"\n",
    "    stack = []\n",
    "    mapping = {')': '(', ']': '[', '}': '{'}\n",
    "    \n",
    "    for char in s:\n",
    "        if char in mapping:\n",
    "            top_elem = stack.pop() if stack else '#'\n",
    "            if mapping[char] != top_elem:\n",
    "                return False\n",
    "        else:\n",
    "            stack.append(char)\n",
    "    \n",
    "    return not stack\n",
    "\n",
    "def main():\n",
    "    string_val = input('Enter the parentheses sequence: ')            \n",
    "    result = stack_valid(string_val)\n",
    "    if result:\n",
    "        print('The provided sequence is valid.')\n",
    "    else:\n",
    "        print('The provided sequence is invalid.')\n",
    "\n",
    "if __name__ == '__main__':\n",
    "    main()\n"
   ]
  },
  {
   "cell_type": "markdown",
   "metadata": {},
   "source": [
    "2.Queue Implimentation"
   ]
  },
  {
   "cell_type": "code",
   "execution_count": 5,
   "metadata": {},
   "outputs": [
    {
     "name": "stdout",
     "output_type": "stream",
     "text": [
      "10 20 30 \n",
      "20 30 \n"
     ]
    }
   ],
   "source": [
    "class MyQueue:\n",
    "\n",
    "    def __init__(self, size):\n",
    "        self.size = size\n",
    "        self.arr = [0] * size\n",
    "        self.last = 0\n",
    "\n",
    "    def is_empty(self):\n",
    "        return self.last == 0\n",
    "\n",
    "    def is_full(self):\n",
    "        return self.last == self.size\n",
    "\n",
    "    def enqueue(self, ele):\n",
    "        if self.is_full():\n",
    "            print(\"Queue is full\")\n",
    "        else:\n",
    "            self.arr[self.last] = ele\n",
    "            self.last += 1\n",
    "\n",
    "    def dequeue(self):\n",
    "        if self.is_empty():\n",
    "            print(\"Queue is empty\")\n",
    "        else:\n",
    "            for i in range(self.last - 1):\n",
    "                self.arr[i] = self.arr[i + 1]\n",
    "            self.last -= 1\n",
    "\n",
    "    def display(self):\n",
    "        if self.is_empty():\n",
    "            print(\"Queue is empty\")\n",
    "        else:\n",
    "            for i in range(self.last):\n",
    "                print(self.arr[i], end=\" \")\n",
    "            print()\n",
    "\n",
    "\n",
    "queue = MyQueue(5)\n",
    "queue.enqueue(10)\n",
    "queue.enqueue(20)\n",
    "queue.enqueue(30)\n",
    "queue.display()  \n",
    "queue.dequeue()\n",
    "queue.display()  \n"
   ]
  },
  {
   "cell_type": "markdown",
   "metadata": {},
   "source": [
    "3.Given a binary tree and a target sum, find all root-to-leaf paths where each path's sum equals the target sum."
   ]
  },
  {
   "cell_type": "code",
   "execution_count": null,
   "metadata": {},
   "outputs": [
    {
     "name": "stdout",
     "output_type": "stream",
     "text": [
      "[[5, 4, 11, 2]]\n"
     ]
    }
   ],
   "source": [
    "class TreeNode:\n",
    "    def __init__(self, value: int, left: 'TreeNode' = None, right: 'TreeNode' = None):\n",
    "        self.value = value\n",
    "        self.left = left\n",
    "        self.right = right\n",
    "\n",
    "def path_sum(root: TreeNode, target_sum: int):\n",
    "    def dfs(node: TreeNode, current_sum: int, path: list, result: list):\n",
    "        if not node:\n",
    "            return\n",
    "        \n",
    "        # Add the current node to the path\n",
    "        path.append(node.value)\n",
    "        current_sum += node.value\n",
    "        \n",
    "        # Check if the current node is a leaf and the path sum equals target sum\n",
    "        if not node.left and not node.right and current_sum == target_sum:\n",
    "            result.append(path.copy())  # Use path.copy() to avoid mutation issues\n",
    "        else:\n",
    "            # Continue to explore the left and right subtree\n",
    "            dfs(node.left, current_sum, path, result)\n",
    "            dfs(node.right, current_sum, path, result)\n",
    "        \n",
    "        # Backtrack: remove the current node from path\n",
    "        path.pop()\n",
    "    \n",
    "    result = []\n",
    "    dfs(root, 0, [], result)\n",
    "    return result\n",
    "    \n",
    "root = TreeNode(5)\n",
    "root.left = TreeNode(4)\n",
    "root.right = TreeNode(8)\n",
    "root.left.left = TreeNode(11)\n",
    "root.right.left = TreeNode(13)\n",
    "root.right.right = TreeNode(4)\n",
    "root.left.left.left = TreeNode(7)\n",
    "root.left.left.right = TreeNode(2)\n",
    "root.right.right.right = TreeNode(1)\n",
    "\n",
    "target_sum = 22\n",
    "print(path_sum(root, target_sum))"
   ]
  }
 ],
 "metadata": {
  "kernelspec": {
   "display_name": "Python 3",
   "language": "python",
   "name": "python3"
  },
  "language_info": {
   "codemirror_mode": {
    "name": "ipython",
    "version": 3
   },
   "file_extension": ".py",
   "mimetype": "text/x-python",
   "name": "python",
   "nbconvert_exporter": "python",
   "pygments_lexer": "ipython3",
   "version": "3.11.9"
  }
 },
 "nbformat": 4,
 "nbformat_minor": 2
}
